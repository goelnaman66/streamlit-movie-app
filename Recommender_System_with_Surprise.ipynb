{
  "nbformat": 4,
  "nbformat_minor": 0,
  "metadata": {
    "colab": {
      "name": "Recommender System with Surprise.ipynb",
      "provenance": [],
      "collapsed_sections": [
        "ljexN0Hgsxj7",
        "K-yPIqzzt5et",
        "i5w94WTCzZe9",
        "FSAYBpkL1S-I",
        "SevuwLNb1UgS",
        "217_IWgm2OJk",
        "GOIdBWCl3VNt"
      ]
    },
    "kernelspec": {
      "name": "python3",
      "display_name": "Python 3"
    },
    "accelerator": "TPU"
  },
  "cells": [
    {
      "cell_type": "markdown",
      "metadata": {
        "id": "axAJMOjQsvDi"
      },
      "source": [
        "# Recommendation System\n",
        "\n",
        "Building recommendation system to scale using scikit-surprise (surprise library)\n",
        "\n",
        "[Recommender systems](https://en.wikipedia.org/wiki/Recommender_system) are one of the most common used and easily understandable applications of data science. Lots of work has been done on this topic, the interest and demand in this area remains very high because of the rapid growth of the internet and the information overload problem. It has become necessary for online businesses to help users to deal with information overload and provide personalized recommendations, content and services to them.\n",
        "\n",
        "Two of the most popular ways to approach recommender systems are [collaborative filtering](https://en.wikipedia.org/wiki/Collaborative_filtering) and [content-based recommendations](https://www.analyticsvidhya.com/blog/2015/08/beginners-guide-learn-content-based-recommender-systems/). In this post, we will focus on the **collaborative filtering** approach, that is: the user is recommended items that people with similar tastes and preferences liked in the past. In another word, this method predicts unknown ratings by using the similarities between users."
      ]
    },
    {
      "cell_type": "markdown",
      "metadata": {
        "id": "ljexN0Hgsxj7"
      },
      "source": [
        "## Installing required libraries"
      ]
    },
    {
      "cell_type": "code",
      "metadata": {
        "id": "JvJySjbosixd",
        "outputId": "feb9bde4-b1dc-434f-b46c-c7c6558b43e9",
        "colab": {
          "base_uri": "https://localhost:8080/"
        }
      },
      "source": [
        "!pip3 install numpy\n",
        "!pip3 install scikit-surprise"
      ],
      "execution_count": 2,
      "outputs": [
        {
          "output_type": "stream",
          "name": "stdout",
          "text": [
            "Looking in indexes: https://pypi.org/simple, https://us-python.pkg.dev/colab-wheels/public/simple/\n",
            "Requirement already satisfied: numpy in /usr/local/lib/python3.7/dist-packages (1.21.6)\n",
            "Looking in indexes: https://pypi.org/simple, https://us-python.pkg.dev/colab-wheels/public/simple/\n",
            "Collecting scikit-surprise\n",
            "  Downloading scikit-surprise-1.1.1.tar.gz (11.8 MB)\n",
            "\u001b[K     |████████████████████████████████| 11.8 MB 4.6 MB/s \n",
            "\u001b[?25hRequirement already satisfied: joblib>=0.11 in /usr/local/lib/python3.7/dist-packages (from scikit-surprise) (1.1.0)\n",
            "Requirement already satisfied: numpy>=1.11.2 in /usr/local/lib/python3.7/dist-packages (from scikit-surprise) (1.21.6)\n",
            "Requirement already satisfied: scipy>=1.0.0 in /usr/local/lib/python3.7/dist-packages (from scikit-surprise) (1.4.1)\n",
            "Requirement already satisfied: six>=1.10.0 in /usr/local/lib/python3.7/dist-packages (from scikit-surprise) (1.15.0)\n",
            "Building wheels for collected packages: scikit-surprise\n",
            "  Building wheel for scikit-surprise (setup.py) ... \u001b[?25l\u001b[?25hdone\n",
            "  Created wheel for scikit-surprise: filename=scikit_surprise-1.1.1-cp37-cp37m-linux_x86_64.whl size=1633710 sha256=ac91a388e6c92fc00e7ae6ef4228ad869f2f62c6012c6146869f0effd3835cb2\n",
            "  Stored in directory: /root/.cache/pip/wheels/76/44/74/b498c42be47b2406bd27994e16c5188e337c657025ab400c1c\n",
            "Successfully built scikit-surprise\n",
            "Installing collected packages: scikit-surprise\n",
            "Successfully installed scikit-surprise-1.1.1\n"
          ]
        }
      ]
    },
    {
      "cell_type": "markdown",
      "metadata": {
        "id": "K-yPIqzzt5et"
      },
      "source": [
        "## Importing required libraries"
      ]
    },
    {
      "cell_type": "code",
      "metadata": {
        "id": "fnFQyJeIsRoW"
      },
      "source": [
        "import pandas as pd\n",
        "from surprise import Reader\n",
        "from surprise import Dataset\n",
        "from surprise.model_selection import cross_validate\n",
        "from surprise import NormalPredictor\n",
        "from surprise import KNNBasic\n",
        "from surprise import KNNWithMeans\n",
        "from surprise import KNNWithZScore\n",
        "from surprise import KNNBaseline\n",
        "from surprise import SVD\n",
        "from surprise import BaselineOnly\n",
        "from surprise import SVDpp\n",
        "from surprise import NMF\n",
        "from surprise import SlopeOne\n",
        "from surprise import CoClustering\n",
        "from surprise.accuracy import rmse\n",
        "from surprise import accuracy\n",
        "from surprise.model_selection import train_test_split\n",
        "from surprise.model_selection import GridSearchCV"
      ],
      "execution_count": 3,
      "outputs": []
    },
    {
      "cell_type": "markdown",
      "metadata": {
        "id": "I5tdz4Wwx9vQ"
      },
      "source": [
        "## Importing data"
      ]
    },
    {
      "cell_type": "markdown",
      "metadata": {
        "id": "sJJpFvepyCKx"
      },
      "source": [
        "GroupLens Research has collected and made available rating data sets from the MovieLens web site ([http://movielens.org](http://movielens.org/)). The data sets were collected over various periods of time, depending on the size of the set.\n",
        "\n",
        "We are using *Small*: 100,000 ratings and 3,600 tag applications applied to 9,000 movies by 600 users. Last updated 9/2018.\n",
        "\n",
        "Download: [ml-latest-small.zip](http://files.grouplens.org/datasets/movielens/ml-latest-small.zip) (size: 1 MB)"
      ]
    },
    {
      "cell_type": "code",
      "metadata": {
        "id": "ofkkqibhsbMB"
      },
      "source": [
        "df = pd.read_csv (\"https://raw.githubusercontent.com/singhsidhukuldeep/Recommendation-System/master/data/ratings.csv\")"
      ],
      "execution_count": 4,
      "outputs": []
    },
    {
      "cell_type": "code",
      "metadata": {
        "id": "G2lwZjoVx4VP",
        "outputId": "a2c87509-26c2-4405-e6ac-89cedf12214b",
        "colab": {
          "base_uri": "https://localhost:8080/",
          "height": 206
        }
      },
      "source": [
        "df.head()"
      ],
      "execution_count": 5,
      "outputs": [
        {
          "output_type": "execute_result",
          "data": {
            "text/plain": [
              "   userId  movieId  rating  timestamp\n",
              "0       1        1     4.0  964982703\n",
              "1       1        3     4.0  964981247\n",
              "2       1        6     4.0  964982224\n",
              "3       1       47     5.0  964983815\n",
              "4       1       50     5.0  964982931"
            ],
            "text/html": [
              "\n",
              "  <div id=\"df-9b73e15a-1560-45d2-bdca-754fd5e9ec05\">\n",
              "    <div class=\"colab-df-container\">\n",
              "      <div>\n",
              "<style scoped>\n",
              "    .dataframe tbody tr th:only-of-type {\n",
              "        vertical-align: middle;\n",
              "    }\n",
              "\n",
              "    .dataframe tbody tr th {\n",
              "        vertical-align: top;\n",
              "    }\n",
              "\n",
              "    .dataframe thead th {\n",
              "        text-align: right;\n",
              "    }\n",
              "</style>\n",
              "<table border=\"1\" class=\"dataframe\">\n",
              "  <thead>\n",
              "    <tr style=\"text-align: right;\">\n",
              "      <th></th>\n",
              "      <th>userId</th>\n",
              "      <th>movieId</th>\n",
              "      <th>rating</th>\n",
              "      <th>timestamp</th>\n",
              "    </tr>\n",
              "  </thead>\n",
              "  <tbody>\n",
              "    <tr>\n",
              "      <th>0</th>\n",
              "      <td>1</td>\n",
              "      <td>1</td>\n",
              "      <td>4.0</td>\n",
              "      <td>964982703</td>\n",
              "    </tr>\n",
              "    <tr>\n",
              "      <th>1</th>\n",
              "      <td>1</td>\n",
              "      <td>3</td>\n",
              "      <td>4.0</td>\n",
              "      <td>964981247</td>\n",
              "    </tr>\n",
              "    <tr>\n",
              "      <th>2</th>\n",
              "      <td>1</td>\n",
              "      <td>6</td>\n",
              "      <td>4.0</td>\n",
              "      <td>964982224</td>\n",
              "    </tr>\n",
              "    <tr>\n",
              "      <th>3</th>\n",
              "      <td>1</td>\n",
              "      <td>47</td>\n",
              "      <td>5.0</td>\n",
              "      <td>964983815</td>\n",
              "    </tr>\n",
              "    <tr>\n",
              "      <th>4</th>\n",
              "      <td>1</td>\n",
              "      <td>50</td>\n",
              "      <td>5.0</td>\n",
              "      <td>964982931</td>\n",
              "    </tr>\n",
              "  </tbody>\n",
              "</table>\n",
              "</div>\n",
              "      <button class=\"colab-df-convert\" onclick=\"convertToInteractive('df-9b73e15a-1560-45d2-bdca-754fd5e9ec05')\"\n",
              "              title=\"Convert this dataframe to an interactive table.\"\n",
              "              style=\"display:none;\">\n",
              "        \n",
              "  <svg xmlns=\"http://www.w3.org/2000/svg\" height=\"24px\"viewBox=\"0 0 24 24\"\n",
              "       width=\"24px\">\n",
              "    <path d=\"M0 0h24v24H0V0z\" fill=\"none\"/>\n",
              "    <path d=\"M18.56 5.44l.94 2.06.94-2.06 2.06-.94-2.06-.94-.94-2.06-.94 2.06-2.06.94zm-11 1L8.5 8.5l.94-2.06 2.06-.94-2.06-.94L8.5 2.5l-.94 2.06-2.06.94zm10 10l.94 2.06.94-2.06 2.06-.94-2.06-.94-.94-2.06-.94 2.06-2.06.94z\"/><path d=\"M17.41 7.96l-1.37-1.37c-.4-.4-.92-.59-1.43-.59-.52 0-1.04.2-1.43.59L10.3 9.45l-7.72 7.72c-.78.78-.78 2.05 0 2.83L4 21.41c.39.39.9.59 1.41.59.51 0 1.02-.2 1.41-.59l7.78-7.78 2.81-2.81c.8-.78.8-2.07 0-2.86zM5.41 20L4 18.59l7.72-7.72 1.47 1.35L5.41 20z\"/>\n",
              "  </svg>\n",
              "      </button>\n",
              "      \n",
              "  <style>\n",
              "    .colab-df-container {\n",
              "      display:flex;\n",
              "      flex-wrap:wrap;\n",
              "      gap: 12px;\n",
              "    }\n",
              "\n",
              "    .colab-df-convert {\n",
              "      background-color: #E8F0FE;\n",
              "      border: none;\n",
              "      border-radius: 50%;\n",
              "      cursor: pointer;\n",
              "      display: none;\n",
              "      fill: #1967D2;\n",
              "      height: 32px;\n",
              "      padding: 0 0 0 0;\n",
              "      width: 32px;\n",
              "    }\n",
              "\n",
              "    .colab-df-convert:hover {\n",
              "      background-color: #E2EBFA;\n",
              "      box-shadow: 0px 1px 2px rgba(60, 64, 67, 0.3), 0px 1px 3px 1px rgba(60, 64, 67, 0.15);\n",
              "      fill: #174EA6;\n",
              "    }\n",
              "\n",
              "    [theme=dark] .colab-df-convert {\n",
              "      background-color: #3B4455;\n",
              "      fill: #D2E3FC;\n",
              "    }\n",
              "\n",
              "    [theme=dark] .colab-df-convert:hover {\n",
              "      background-color: #434B5C;\n",
              "      box-shadow: 0px 1px 3px 1px rgba(0, 0, 0, 0.15);\n",
              "      filter: drop-shadow(0px 1px 2px rgba(0, 0, 0, 0.3));\n",
              "      fill: #FFFFFF;\n",
              "    }\n",
              "  </style>\n",
              "\n",
              "      <script>\n",
              "        const buttonEl =\n",
              "          document.querySelector('#df-9b73e15a-1560-45d2-bdca-754fd5e9ec05 button.colab-df-convert');\n",
              "        buttonEl.style.display =\n",
              "          google.colab.kernel.accessAllowed ? 'block' : 'none';\n",
              "\n",
              "        async function convertToInteractive(key) {\n",
              "          const element = document.querySelector('#df-9b73e15a-1560-45d2-bdca-754fd5e9ec05');\n",
              "          const dataTable =\n",
              "            await google.colab.kernel.invokeFunction('convertToInteractive',\n",
              "                                                     [key], {});\n",
              "          if (!dataTable) return;\n",
              "\n",
              "          const docLinkHtml = 'Like what you see? Visit the ' +\n",
              "            '<a target=\"_blank\" href=https://colab.research.google.com/notebooks/data_table.ipynb>data table notebook</a>'\n",
              "            + ' to learn more about interactive tables.';\n",
              "          element.innerHTML = '';\n",
              "          dataTable['output_type'] = 'display_data';\n",
              "          await google.colab.output.renderOutput(dataTable, element);\n",
              "          const docLink = document.createElement('div');\n",
              "          docLink.innerHTML = docLinkHtml;\n",
              "          element.appendChild(docLink);\n",
              "        }\n",
              "      </script>\n",
              "    </div>\n",
              "  </div>\n",
              "  "
            ]
          },
          "metadata": {},
          "execution_count": 5
        }
      ]
    },
    {
      "cell_type": "code",
      "metadata": {
        "id": "C470QI87x58S",
        "outputId": "57058f44-339e-4e62-dfe5-2a2357acaef6",
        "colab": {
          "base_uri": "https://localhost:8080/",
          "height": 206
        }
      },
      "source": [
        "df.tail()"
      ],
      "execution_count": 6,
      "outputs": [
        {
          "output_type": "execute_result",
          "data": {
            "text/plain": [
              "        userId  movieId  rating   timestamp\n",
              "100831     610   166534     4.0  1493848402\n",
              "100832     610   168248     5.0  1493850091\n",
              "100833     610   168250     5.0  1494273047\n",
              "100834     610   168252     5.0  1493846352\n",
              "100835     610   170875     3.0  1493846415"
            ],
            "text/html": [
              "\n",
              "  <div id=\"df-0ae653e9-0ead-467b-9f67-47375b9427e4\">\n",
              "    <div class=\"colab-df-container\">\n",
              "      <div>\n",
              "<style scoped>\n",
              "    .dataframe tbody tr th:only-of-type {\n",
              "        vertical-align: middle;\n",
              "    }\n",
              "\n",
              "    .dataframe tbody tr th {\n",
              "        vertical-align: top;\n",
              "    }\n",
              "\n",
              "    .dataframe thead th {\n",
              "        text-align: right;\n",
              "    }\n",
              "</style>\n",
              "<table border=\"1\" class=\"dataframe\">\n",
              "  <thead>\n",
              "    <tr style=\"text-align: right;\">\n",
              "      <th></th>\n",
              "      <th>userId</th>\n",
              "      <th>movieId</th>\n",
              "      <th>rating</th>\n",
              "      <th>timestamp</th>\n",
              "    </tr>\n",
              "  </thead>\n",
              "  <tbody>\n",
              "    <tr>\n",
              "      <th>100831</th>\n",
              "      <td>610</td>\n",
              "      <td>166534</td>\n",
              "      <td>4.0</td>\n",
              "      <td>1493848402</td>\n",
              "    </tr>\n",
              "    <tr>\n",
              "      <th>100832</th>\n",
              "      <td>610</td>\n",
              "      <td>168248</td>\n",
              "      <td>5.0</td>\n",
              "      <td>1493850091</td>\n",
              "    </tr>\n",
              "    <tr>\n",
              "      <th>100833</th>\n",
              "      <td>610</td>\n",
              "      <td>168250</td>\n",
              "      <td>5.0</td>\n",
              "      <td>1494273047</td>\n",
              "    </tr>\n",
              "    <tr>\n",
              "      <th>100834</th>\n",
              "      <td>610</td>\n",
              "      <td>168252</td>\n",
              "      <td>5.0</td>\n",
              "      <td>1493846352</td>\n",
              "    </tr>\n",
              "    <tr>\n",
              "      <th>100835</th>\n",
              "      <td>610</td>\n",
              "      <td>170875</td>\n",
              "      <td>3.0</td>\n",
              "      <td>1493846415</td>\n",
              "    </tr>\n",
              "  </tbody>\n",
              "</table>\n",
              "</div>\n",
              "      <button class=\"colab-df-convert\" onclick=\"convertToInteractive('df-0ae653e9-0ead-467b-9f67-47375b9427e4')\"\n",
              "              title=\"Convert this dataframe to an interactive table.\"\n",
              "              style=\"display:none;\">\n",
              "        \n",
              "  <svg xmlns=\"http://www.w3.org/2000/svg\" height=\"24px\"viewBox=\"0 0 24 24\"\n",
              "       width=\"24px\">\n",
              "    <path d=\"M0 0h24v24H0V0z\" fill=\"none\"/>\n",
              "    <path d=\"M18.56 5.44l.94 2.06.94-2.06 2.06-.94-2.06-.94-.94-2.06-.94 2.06-2.06.94zm-11 1L8.5 8.5l.94-2.06 2.06-.94-2.06-.94L8.5 2.5l-.94 2.06-2.06.94zm10 10l.94 2.06.94-2.06 2.06-.94-2.06-.94-.94-2.06-.94 2.06-2.06.94z\"/><path d=\"M17.41 7.96l-1.37-1.37c-.4-.4-.92-.59-1.43-.59-.52 0-1.04.2-1.43.59L10.3 9.45l-7.72 7.72c-.78.78-.78 2.05 0 2.83L4 21.41c.39.39.9.59 1.41.59.51 0 1.02-.2 1.41-.59l7.78-7.78 2.81-2.81c.8-.78.8-2.07 0-2.86zM5.41 20L4 18.59l7.72-7.72 1.47 1.35L5.41 20z\"/>\n",
              "  </svg>\n",
              "      </button>\n",
              "      \n",
              "  <style>\n",
              "    .colab-df-container {\n",
              "      display:flex;\n",
              "      flex-wrap:wrap;\n",
              "      gap: 12px;\n",
              "    }\n",
              "\n",
              "    .colab-df-convert {\n",
              "      background-color: #E8F0FE;\n",
              "      border: none;\n",
              "      border-radius: 50%;\n",
              "      cursor: pointer;\n",
              "      display: none;\n",
              "      fill: #1967D2;\n",
              "      height: 32px;\n",
              "      padding: 0 0 0 0;\n",
              "      width: 32px;\n",
              "    }\n",
              "\n",
              "    .colab-df-convert:hover {\n",
              "      background-color: #E2EBFA;\n",
              "      box-shadow: 0px 1px 2px rgba(60, 64, 67, 0.3), 0px 1px 3px 1px rgba(60, 64, 67, 0.15);\n",
              "      fill: #174EA6;\n",
              "    }\n",
              "\n",
              "    [theme=dark] .colab-df-convert {\n",
              "      background-color: #3B4455;\n",
              "      fill: #D2E3FC;\n",
              "    }\n",
              "\n",
              "    [theme=dark] .colab-df-convert:hover {\n",
              "      background-color: #434B5C;\n",
              "      box-shadow: 0px 1px 3px 1px rgba(0, 0, 0, 0.15);\n",
              "      filter: drop-shadow(0px 1px 2px rgba(0, 0, 0, 0.3));\n",
              "      fill: #FFFFFF;\n",
              "    }\n",
              "  </style>\n",
              "\n",
              "      <script>\n",
              "        const buttonEl =\n",
              "          document.querySelector('#df-0ae653e9-0ead-467b-9f67-47375b9427e4 button.colab-df-convert');\n",
              "        buttonEl.style.display =\n",
              "          google.colab.kernel.accessAllowed ? 'block' : 'none';\n",
              "\n",
              "        async function convertToInteractive(key) {\n",
              "          const element = document.querySelector('#df-0ae653e9-0ead-467b-9f67-47375b9427e4');\n",
              "          const dataTable =\n",
              "            await google.colab.kernel.invokeFunction('convertToInteractive',\n",
              "                                                     [key], {});\n",
              "          if (!dataTable) return;\n",
              "\n",
              "          const docLinkHtml = 'Like what you see? Visit the ' +\n",
              "            '<a target=\"_blank\" href=https://colab.research.google.com/notebooks/data_table.ipynb>data table notebook</a>'\n",
              "            + ' to learn more about interactive tables.';\n",
              "          element.innerHTML = '';\n",
              "          dataTable['output_type'] = 'display_data';\n",
              "          await google.colab.output.renderOutput(dataTable, element);\n",
              "          const docLink = document.createElement('div');\n",
              "          docLink.innerHTML = docLinkHtml;\n",
              "          element.appendChild(docLink);\n",
              "        }\n",
              "      </script>\n",
              "    </div>\n",
              "  </div>\n",
              "  "
            ]
          },
          "metadata": {},
          "execution_count": 6
        }
      ]
    },
    {
      "cell_type": "code",
      "metadata": {
        "id": "nBjaHwBbyJKQ"
      },
      "source": [
        "df.drop(['timestamp'], axis=1, inplace=True)\n",
        "df.columns = ['userID', 'item', 'rating']"
      ],
      "execution_count": 7,
      "outputs": []
    },
    {
      "cell_type": "code",
      "metadata": {
        "id": "iUF4O2AHy3Uf",
        "outputId": "ed6aaeca-23e7-4c8e-a4cc-dbd5905a4cc4",
        "colab": {
          "base_uri": "https://localhost:8080/",
          "height": 206
        }
      },
      "source": [
        "df.head()"
      ],
      "execution_count": 8,
      "outputs": [
        {
          "output_type": "execute_result",
          "data": {
            "text/plain": [
              "   userID  item  rating\n",
              "0       1     1     4.0\n",
              "1       1     3     4.0\n",
              "2       1     6     4.0\n",
              "3       1    47     5.0\n",
              "4       1    50     5.0"
            ],
            "text/html": [
              "\n",
              "  <div id=\"df-953e7b39-0202-4118-a569-61d51cec002c\">\n",
              "    <div class=\"colab-df-container\">\n",
              "      <div>\n",
              "<style scoped>\n",
              "    .dataframe tbody tr th:only-of-type {\n",
              "        vertical-align: middle;\n",
              "    }\n",
              "\n",
              "    .dataframe tbody tr th {\n",
              "        vertical-align: top;\n",
              "    }\n",
              "\n",
              "    .dataframe thead th {\n",
              "        text-align: right;\n",
              "    }\n",
              "</style>\n",
              "<table border=\"1\" class=\"dataframe\">\n",
              "  <thead>\n",
              "    <tr style=\"text-align: right;\">\n",
              "      <th></th>\n",
              "      <th>userID</th>\n",
              "      <th>item</th>\n",
              "      <th>rating</th>\n",
              "    </tr>\n",
              "  </thead>\n",
              "  <tbody>\n",
              "    <tr>\n",
              "      <th>0</th>\n",
              "      <td>1</td>\n",
              "      <td>1</td>\n",
              "      <td>4.0</td>\n",
              "    </tr>\n",
              "    <tr>\n",
              "      <th>1</th>\n",
              "      <td>1</td>\n",
              "      <td>3</td>\n",
              "      <td>4.0</td>\n",
              "    </tr>\n",
              "    <tr>\n",
              "      <th>2</th>\n",
              "      <td>1</td>\n",
              "      <td>6</td>\n",
              "      <td>4.0</td>\n",
              "    </tr>\n",
              "    <tr>\n",
              "      <th>3</th>\n",
              "      <td>1</td>\n",
              "      <td>47</td>\n",
              "      <td>5.0</td>\n",
              "    </tr>\n",
              "    <tr>\n",
              "      <th>4</th>\n",
              "      <td>1</td>\n",
              "      <td>50</td>\n",
              "      <td>5.0</td>\n",
              "    </tr>\n",
              "  </tbody>\n",
              "</table>\n",
              "</div>\n",
              "      <button class=\"colab-df-convert\" onclick=\"convertToInteractive('df-953e7b39-0202-4118-a569-61d51cec002c')\"\n",
              "              title=\"Convert this dataframe to an interactive table.\"\n",
              "              style=\"display:none;\">\n",
              "        \n",
              "  <svg xmlns=\"http://www.w3.org/2000/svg\" height=\"24px\"viewBox=\"0 0 24 24\"\n",
              "       width=\"24px\">\n",
              "    <path d=\"M0 0h24v24H0V0z\" fill=\"none\"/>\n",
              "    <path d=\"M18.56 5.44l.94 2.06.94-2.06 2.06-.94-2.06-.94-.94-2.06-.94 2.06-2.06.94zm-11 1L8.5 8.5l.94-2.06 2.06-.94-2.06-.94L8.5 2.5l-.94 2.06-2.06.94zm10 10l.94 2.06.94-2.06 2.06-.94-2.06-.94-.94-2.06-.94 2.06-2.06.94z\"/><path d=\"M17.41 7.96l-1.37-1.37c-.4-.4-.92-.59-1.43-.59-.52 0-1.04.2-1.43.59L10.3 9.45l-7.72 7.72c-.78.78-.78 2.05 0 2.83L4 21.41c.39.39.9.59 1.41.59.51 0 1.02-.2 1.41-.59l7.78-7.78 2.81-2.81c.8-.78.8-2.07 0-2.86zM5.41 20L4 18.59l7.72-7.72 1.47 1.35L5.41 20z\"/>\n",
              "  </svg>\n",
              "      </button>\n",
              "      \n",
              "  <style>\n",
              "    .colab-df-container {\n",
              "      display:flex;\n",
              "      flex-wrap:wrap;\n",
              "      gap: 12px;\n",
              "    }\n",
              "\n",
              "    .colab-df-convert {\n",
              "      background-color: #E8F0FE;\n",
              "      border: none;\n",
              "      border-radius: 50%;\n",
              "      cursor: pointer;\n",
              "      display: none;\n",
              "      fill: #1967D2;\n",
              "      height: 32px;\n",
              "      padding: 0 0 0 0;\n",
              "      width: 32px;\n",
              "    }\n",
              "\n",
              "    .colab-df-convert:hover {\n",
              "      background-color: #E2EBFA;\n",
              "      box-shadow: 0px 1px 2px rgba(60, 64, 67, 0.3), 0px 1px 3px 1px rgba(60, 64, 67, 0.15);\n",
              "      fill: #174EA6;\n",
              "    }\n",
              "\n",
              "    [theme=dark] .colab-df-convert {\n",
              "      background-color: #3B4455;\n",
              "      fill: #D2E3FC;\n",
              "    }\n",
              "\n",
              "    [theme=dark] .colab-df-convert:hover {\n",
              "      background-color: #434B5C;\n",
              "      box-shadow: 0px 1px 3px 1px rgba(0, 0, 0, 0.15);\n",
              "      filter: drop-shadow(0px 1px 2px rgba(0, 0, 0, 0.3));\n",
              "      fill: #FFFFFF;\n",
              "    }\n",
              "  </style>\n",
              "\n",
              "      <script>\n",
              "        const buttonEl =\n",
              "          document.querySelector('#df-953e7b39-0202-4118-a569-61d51cec002c button.colab-df-convert');\n",
              "        buttonEl.style.display =\n",
              "          google.colab.kernel.accessAllowed ? 'block' : 'none';\n",
              "\n",
              "        async function convertToInteractive(key) {\n",
              "          const element = document.querySelector('#df-953e7b39-0202-4118-a569-61d51cec002c');\n",
              "          const dataTable =\n",
              "            await google.colab.kernel.invokeFunction('convertToInteractive',\n",
              "                                                     [key], {});\n",
              "          if (!dataTable) return;\n",
              "\n",
              "          const docLinkHtml = 'Like what you see? Visit the ' +\n",
              "            '<a target=\"_blank\" href=https://colab.research.google.com/notebooks/data_table.ipynb>data table notebook</a>'\n",
              "            + ' to learn more about interactive tables.';\n",
              "          element.innerHTML = '';\n",
              "          dataTable['output_type'] = 'display_data';\n",
              "          await google.colab.output.renderOutput(dataTable, element);\n",
              "          const docLink = document.createElement('div');\n",
              "          docLink.innerHTML = docLinkHtml;\n",
              "          element.appendChild(docLink);\n",
              "        }\n",
              "      </script>\n",
              "    </div>\n",
              "  </div>\n",
              "  "
            ]
          },
          "metadata": {},
          "execution_count": 8
        }
      ]
    },
    {
      "cell_type": "code",
      "metadata": {
        "id": "Z_pC5wxXy5Km",
        "outputId": "50a7ee85-de16-45d9-e735-0af8534a40b2",
        "colab": {
          "base_uri": "https://localhost:8080/"
        }
      },
      "source": [
        "df.shape"
      ],
      "execution_count": 9,
      "outputs": [
        {
          "output_type": "execute_result",
          "data": {
            "text/plain": [
              "(100836, 3)"
            ]
          },
          "metadata": {},
          "execution_count": 9
        }
      ]
    },
    {
      "cell_type": "code",
      "metadata": {
        "id": "hqLTBVX1y_sL",
        "outputId": "5ae01065-5bf3-47e9-bf2a-d37bdf2b3be8",
        "colab": {
          "base_uri": "https://localhost:8080/"
        }
      },
      "source": [
        "df.info()"
      ],
      "execution_count": 10,
      "outputs": [
        {
          "output_type": "stream",
          "name": "stdout",
          "text": [
            "<class 'pandas.core.frame.DataFrame'>\n",
            "RangeIndex: 100836 entries, 0 to 100835\n",
            "Data columns (total 3 columns):\n",
            " #   Column  Non-Null Count   Dtype  \n",
            "---  ------  --------------   -----  \n",
            " 0   userID  100836 non-null  int64  \n",
            " 1   item    100836 non-null  int64  \n",
            " 2   rating  100836 non-null  float64\n",
            "dtypes: float64(1), int64(2)\n",
            "memory usage: 2.3 MB\n"
          ]
        }
      ]
    },
    {
      "cell_type": "code",
      "metadata": {
        "id": "FH4H6Fq-zCUv",
        "outputId": "fd3a0236-6a62-49dd-88c3-894ccafbc532",
        "colab": {
          "base_uri": "https://localhost:8080/"
        }
      },
      "source": [
        "print('Dataset shape: {}'.format(df.shape))\n",
        "print('-Dataset examples-')\n",
        "print(df.iloc[::20000, :])"
      ],
      "execution_count": 11,
      "outputs": [
        {
          "output_type": "stream",
          "name": "stdout",
          "text": [
            "Dataset shape: (100836, 3)\n",
            "-Dataset examples-\n",
            "        userID  item  rating\n",
            "0            1     1     4.0\n",
            "20000      132  1079     3.5\n",
            "40000      274  5621     2.0\n",
            "60000      387  6748     3.0\n",
            "80000      501    11     3.0\n",
            "100000     610  6978     4.0\n"
          ]
        }
      ]
    },
    {
      "cell_type": "code",
      "metadata": {
        "id": "YLt_VoYh2ZP6",
        "outputId": "f23eb9cd-a712-42fb-90c7-5f5fe1a2f084",
        "colab": {
          "base_uri": "https://localhost:8080/",
          "height": 363
        }
      },
      "source": [
        "df.groupby('userID')['rating'].count().reset_index().sort_values('rating', ascending=False)[:10]"
      ],
      "execution_count": null,
      "outputs": [
        {
          "output_type": "execute_result",
          "data": {
            "text/plain": [
              "     userID  rating\n",
              "413     414    2698\n",
              "598     599    2478\n",
              "473     474    2108\n",
              "447     448    1864\n",
              "273     274    1346\n",
              "609     610    1302\n",
              "67       68    1260\n",
              "379     380    1218\n",
              "605     606    1115\n",
              "287     288    1055"
            ],
            "text/html": [
              "\n",
              "  <div id=\"df-92db386b-7131-40ec-92cc-0b8b5eaf9254\">\n",
              "    <div class=\"colab-df-container\">\n",
              "      <div>\n",
              "<style scoped>\n",
              "    .dataframe tbody tr th:only-of-type {\n",
              "        vertical-align: middle;\n",
              "    }\n",
              "\n",
              "    .dataframe tbody tr th {\n",
              "        vertical-align: top;\n",
              "    }\n",
              "\n",
              "    .dataframe thead th {\n",
              "        text-align: right;\n",
              "    }\n",
              "</style>\n",
              "<table border=\"1\" class=\"dataframe\">\n",
              "  <thead>\n",
              "    <tr style=\"text-align: right;\">\n",
              "      <th></th>\n",
              "      <th>userID</th>\n",
              "      <th>rating</th>\n",
              "    </tr>\n",
              "  </thead>\n",
              "  <tbody>\n",
              "    <tr>\n",
              "      <th>413</th>\n",
              "      <td>414</td>\n",
              "      <td>2698</td>\n",
              "    </tr>\n",
              "    <tr>\n",
              "      <th>598</th>\n",
              "      <td>599</td>\n",
              "      <td>2478</td>\n",
              "    </tr>\n",
              "    <tr>\n",
              "      <th>473</th>\n",
              "      <td>474</td>\n",
              "      <td>2108</td>\n",
              "    </tr>\n",
              "    <tr>\n",
              "      <th>447</th>\n",
              "      <td>448</td>\n",
              "      <td>1864</td>\n",
              "    </tr>\n",
              "    <tr>\n",
              "      <th>273</th>\n",
              "      <td>274</td>\n",
              "      <td>1346</td>\n",
              "    </tr>\n",
              "    <tr>\n",
              "      <th>609</th>\n",
              "      <td>610</td>\n",
              "      <td>1302</td>\n",
              "    </tr>\n",
              "    <tr>\n",
              "      <th>67</th>\n",
              "      <td>68</td>\n",
              "      <td>1260</td>\n",
              "    </tr>\n",
              "    <tr>\n",
              "      <th>379</th>\n",
              "      <td>380</td>\n",
              "      <td>1218</td>\n",
              "    </tr>\n",
              "    <tr>\n",
              "      <th>605</th>\n",
              "      <td>606</td>\n",
              "      <td>1115</td>\n",
              "    </tr>\n",
              "    <tr>\n",
              "      <th>287</th>\n",
              "      <td>288</td>\n",
              "      <td>1055</td>\n",
              "    </tr>\n",
              "  </tbody>\n",
              "</table>\n",
              "</div>\n",
              "      <button class=\"colab-df-convert\" onclick=\"convertToInteractive('df-92db386b-7131-40ec-92cc-0b8b5eaf9254')\"\n",
              "              title=\"Convert this dataframe to an interactive table.\"\n",
              "              style=\"display:none;\">\n",
              "        \n",
              "  <svg xmlns=\"http://www.w3.org/2000/svg\" height=\"24px\"viewBox=\"0 0 24 24\"\n",
              "       width=\"24px\">\n",
              "    <path d=\"M0 0h24v24H0V0z\" fill=\"none\"/>\n",
              "    <path d=\"M18.56 5.44l.94 2.06.94-2.06 2.06-.94-2.06-.94-.94-2.06-.94 2.06-2.06.94zm-11 1L8.5 8.5l.94-2.06 2.06-.94-2.06-.94L8.5 2.5l-.94 2.06-2.06.94zm10 10l.94 2.06.94-2.06 2.06-.94-2.06-.94-.94-2.06-.94 2.06-2.06.94z\"/><path d=\"M17.41 7.96l-1.37-1.37c-.4-.4-.92-.59-1.43-.59-.52 0-1.04.2-1.43.59L10.3 9.45l-7.72 7.72c-.78.78-.78 2.05 0 2.83L4 21.41c.39.39.9.59 1.41.59.51 0 1.02-.2 1.41-.59l7.78-7.78 2.81-2.81c.8-.78.8-2.07 0-2.86zM5.41 20L4 18.59l7.72-7.72 1.47 1.35L5.41 20z\"/>\n",
              "  </svg>\n",
              "      </button>\n",
              "      \n",
              "  <style>\n",
              "    .colab-df-container {\n",
              "      display:flex;\n",
              "      flex-wrap:wrap;\n",
              "      gap: 12px;\n",
              "    }\n",
              "\n",
              "    .colab-df-convert {\n",
              "      background-color: #E8F0FE;\n",
              "      border: none;\n",
              "      border-radius: 50%;\n",
              "      cursor: pointer;\n",
              "      display: none;\n",
              "      fill: #1967D2;\n",
              "      height: 32px;\n",
              "      padding: 0 0 0 0;\n",
              "      width: 32px;\n",
              "    }\n",
              "\n",
              "    .colab-df-convert:hover {\n",
              "      background-color: #E2EBFA;\n",
              "      box-shadow: 0px 1px 2px rgba(60, 64, 67, 0.3), 0px 1px 3px 1px rgba(60, 64, 67, 0.15);\n",
              "      fill: #174EA6;\n",
              "    }\n",
              "\n",
              "    [theme=dark] .colab-df-convert {\n",
              "      background-color: #3B4455;\n",
              "      fill: #D2E3FC;\n",
              "    }\n",
              "\n",
              "    [theme=dark] .colab-df-convert:hover {\n",
              "      background-color: #434B5C;\n",
              "      box-shadow: 0px 1px 3px 1px rgba(0, 0, 0, 0.15);\n",
              "      filter: drop-shadow(0px 1px 2px rgba(0, 0, 0, 0.3));\n",
              "      fill: #FFFFFF;\n",
              "    }\n",
              "  </style>\n",
              "\n",
              "      <script>\n",
              "        const buttonEl =\n",
              "          document.querySelector('#df-92db386b-7131-40ec-92cc-0b8b5eaf9254 button.colab-df-convert');\n",
              "        buttonEl.style.display =\n",
              "          google.colab.kernel.accessAllowed ? 'block' : 'none';\n",
              "\n",
              "        async function convertToInteractive(key) {\n",
              "          const element = document.querySelector('#df-92db386b-7131-40ec-92cc-0b8b5eaf9254');\n",
              "          const dataTable =\n",
              "            await google.colab.kernel.invokeFunction('convertToInteractive',\n",
              "                                                     [key], {});\n",
              "          if (!dataTable) return;\n",
              "\n",
              "          const docLinkHtml = 'Like what you see? Visit the ' +\n",
              "            '<a target=\"_blank\" href=https://colab.research.google.com/notebooks/data_table.ipynb>data table notebook</a>'\n",
              "            + ' to learn more about interactive tables.';\n",
              "          element.innerHTML = '';\n",
              "          dataTable['output_type'] = 'display_data';\n",
              "          await google.colab.output.renderOutput(dataTable, element);\n",
              "          const docLink = document.createElement('div');\n",
              "          docLink.innerHTML = docLinkHtml;\n",
              "          element.appendChild(docLink);\n",
              "        }\n",
              "      </script>\n",
              "    </div>\n",
              "  </div>\n",
              "  "
            ]
          },
          "metadata": {},
          "execution_count": 15
        }
      ]
    },
    {
      "cell_type": "markdown",
      "metadata": {
        "id": "GOIdBWCl3VNt"
      },
      "source": [
        "### Dimensionality\n",
        "\n",
        "To reduce the dimensionality of the dataset, we will filter out rarely rated movies and rarely rating users"
      ]
    },
    {
      "cell_type": "code",
      "metadata": {
        "id": "1QZNP2jb2n51",
        "outputId": "15bccb26-d2f7-49a4-cce9-1e5437e296d5",
        "colab": {
          "base_uri": "https://localhost:8080/"
        }
      },
      "source": [
        "min_ratings = 5\n",
        "filter_items = df['item'].value_counts() > min_ratings\n",
        "filter_items = filter_items[filter_items].index.tolist()\n",
        "\n",
        "min_user_ratings = 5\n",
        "filter_users = df['userID'].value_counts() > min_user_ratings\n",
        "filter_users = filter_users[filter_users].index.tolist()\n",
        "\n",
        "df_new = df[(df['item'].isin(filter_items)) & (df['userID'].isin(filter_users))]\n",
        "print('The original data frame shape:\\t{}'.format(df.shape))\n",
        "print('The new data frame shape:\\t{}'.format(df_new.shape))"
      ],
      "execution_count": null,
      "outputs": [
        {
          "output_type": "stream",
          "name": "stdout",
          "text": [
            "The original data frame shape:\t(100836, 3)\n",
            "The new data frame shape:\t(88364, 3)\n"
          ]
        }
      ]
    },
    {
      "cell_type": "markdown",
      "metadata": {
        "id": "dUSIbusO6Rr1"
      },
      "source": [
        "## Surprise"
      ]
    },
    {
      "cell_type": "markdown",
      "metadata": {
        "id": "C8eFDsEI6Zxk"
      },
      "source": [
        "To load a dataset from a pandas dataframe, we will use the load_from_df() method, we will also need a Reader object, and the rating_scale parameter must be specified. The dataframe must have three columns, corresponding to the user ids, the item ids, and the ratings in this order. Each row thus corresponds to a given rating."
      ]
    },
    {
      "cell_type": "code",
      "metadata": {
        "id": "WX7-al0g3PCF"
      },
      "source": [
        "reader = Reader(rating_scale=(1, 5))\n",
        "data = Dataset.load_from_df(df_new[['userID', 'item', 'rating']], reader)"
      ],
      "execution_count": null,
      "outputs": []
    },
    {
      "cell_type": "markdown",
      "metadata": {
        "id": "1BKNsZL_6ttL"
      },
      "source": [
        "### Basic algorithms\n",
        "\n",
        "With the Surprise library, we will benchmark the following algorithms\n"
      ]
    },
    {
      "cell_type": "markdown",
      "metadata": {
        "id": "us5FjYjd7Vls"
      },
      "source": [
        "\n",
        "#### NormalPredictor\n",
        "\n",
        "* NormalPredictor algorithm predicts a random rating based on the distribution of the training set, which is assumed to be normal. This is one of the most basic algorithms that do not do much work.\n",
        "\n",
        "#### BaselineOnly\n",
        "\n",
        "* BasiclineOnly algorithm predicts the baseline estimate for given user and item.\n",
        "\n",
        "### k-NN algorithms\n",
        "\n",
        "#### KNNBasic\n",
        "\n",
        "* KNNBasic is a basic collaborative filtering algorithm.\n",
        "\n",
        "#### KNNWithMeans\n",
        "\n",
        "* KNNWithMeans is basic collaborative filtering algorithm, taking into account the mean ratings of each user.\n",
        "\n",
        "#### KNNWithZScore\n",
        "\n",
        "* KNNWithZScore is a basic collaborative filtering algorithm, taking into account the z-score normalization of each user.\n",
        "\n",
        "#### KNNBaseline\n",
        "\n",
        "* KNNBaseline is a basic collaborative filtering algorithm taking into account a baseline rating.\n",
        "\n",
        "### Matrix Factorization-based algorithms\n",
        "\n",
        "#### SVD\n",
        "\n",
        "* SVD algorithm is equivalent to Probabilistic Matrix Factorization (http://papers.nips.cc/paper/3208-probabilistic-matrix-factorization.pdf)\n",
        "\n",
        "#### SVDpp\n",
        "\n",
        "* The SVDpp algorithm is an extension of SVD that takes into account implicit ratings.\n",
        "\n",
        "#### NMF\n",
        "\n",
        "* NMF is a collaborative filtering algorithm based on Non-negative Matrix Factorization. It is very similar with SVD.\n",
        "\n",
        "### Slope One\n",
        "\n",
        "* Slope One is a straightforward implementation of the SlopeOne algorithm. (https://arxiv.org/abs/cs/0702144)\n",
        "\n",
        "### Co-clustering\n",
        "\n",
        "* Co-clustering is a collaborative filtering algorithm based on co-clustering (http://citeseerx.ist.psu.edu/viewdoc/download?doi=10.1.1.113.6458&rep=rep1&type=pdf)\n",
        "\n",
        "\n",
        "We use rmse as our accuracy metric for the predictions."
      ]
    },
    {
      "cell_type": "code",
      "metadata": {
        "id": "GuJyfbZc6miT",
        "outputId": "9409c4ff-bfa3-4171-8eb0-f058b0597830",
        "colab": {
          "base_uri": "https://localhost:8080/"
        }
      },
      "source": [
        "benchmark = []\n",
        "# Iterate over all algorithms\n",
        "\n",
        "algorithms = [SVD(), SVDpp(), SlopeOne(), NMF(), NormalPredictor(), KNNBaseline(), KNNBasic(), KNNWithMeans(), KNNWithZScore(), BaselineOnly(), CoClustering()]\n",
        "\n",
        "print (\"Attempting: \", str(algorithms), '\\n\\n\\n')\n",
        "\n",
        "for algorithm in algorithms:\n",
        "    print(\"Starting: \" ,str(algorithm))\n",
        "    # Perform cross validation\n",
        "    results = cross_validate(algorithm, data, measures=['RMSE'], cv=3, verbose=False)\n",
        "    # results = cross_validate(algorithm, data, measures=['RMSE','MAE'], cv=3, verbose=False)\n",
        "    \n",
        "    # Get results & append algorithm name\n",
        "    tmp = pd.DataFrame.from_dict(results).mean(axis=0)\n",
        "    tmp = tmp.append(pd.Series([str(algorithm).split(' ')[0].split('.')[-1]], index=['Algorithm']))\n",
        "    benchmark.append(tmp)\n",
        "    print(\"Done: \" ,str(algorithm), \"\\n\\n\")\n",
        "\n",
        "print ('\\n\\tDONE\\n')"
      ],
      "execution_count": null,
      "outputs": [
        {
          "output_type": "stream",
          "name": "stdout",
          "text": [
            "Attempting:  [<surprise.prediction_algorithms.matrix_factorization.SVD object at 0x7f6f85214b50>, <surprise.prediction_algorithms.matrix_factorization.SVDpp object at 0x7f6f85214910>, <surprise.prediction_algorithms.slope_one.SlopeOne object at 0x7f6f85214bd0>, <surprise.prediction_algorithms.matrix_factorization.NMF object at 0x7f6f852148d0>, <surprise.prediction_algorithms.random_pred.NormalPredictor object at 0x7f6f85214e50>, <surprise.prediction_algorithms.knns.KNNBaseline object at 0x7f6f85214a90>, <surprise.prediction_algorithms.knns.KNNBasic object at 0x7f6f85214750>, <surprise.prediction_algorithms.knns.KNNWithMeans object at 0x7f6f85214dd0>, <surprise.prediction_algorithms.knns.KNNWithZScore object at 0x7f6f852147d0>, <surprise.prediction_algorithms.baseline_only.BaselineOnly object at 0x7f6f85214a50>, <surprise.prediction_algorithms.co_clustering.CoClustering object at 0x7f6f85214f90>] \n",
            "\n",
            "\n",
            "\n",
            "Starting:  <surprise.prediction_algorithms.matrix_factorization.SVD object at 0x7f6f85214b50>\n",
            "Done:  <surprise.prediction_algorithms.matrix_factorization.SVD object at 0x7f6f85214b50> \n",
            "\n",
            "\n",
            "Starting:  <surprise.prediction_algorithms.matrix_factorization.SVDpp object at 0x7f6f85214910>\n",
            "Done:  <surprise.prediction_algorithms.matrix_factorization.SVDpp object at 0x7f6f85214910> \n",
            "\n",
            "\n",
            "Starting:  <surprise.prediction_algorithms.slope_one.SlopeOne object at 0x7f6f85214bd0>\n",
            "Done:  <surprise.prediction_algorithms.slope_one.SlopeOne object at 0x7f6f85214bd0> \n",
            "\n",
            "\n",
            "Starting:  <surprise.prediction_algorithms.matrix_factorization.NMF object at 0x7f6f852148d0>\n",
            "Done:  <surprise.prediction_algorithms.matrix_factorization.NMF object at 0x7f6f852148d0> \n",
            "\n",
            "\n",
            "Starting:  <surprise.prediction_algorithms.random_pred.NormalPredictor object at 0x7f6f85214e50>\n",
            "Done:  <surprise.prediction_algorithms.random_pred.NormalPredictor object at 0x7f6f85214e50> \n",
            "\n",
            "\n",
            "Starting:  <surprise.prediction_algorithms.knns.KNNBaseline object at 0x7f6f85214a90>\n",
            "Estimating biases using als...\n",
            "Computing the msd similarity matrix...\n",
            "Done computing similarity matrix.\n",
            "Estimating biases using als...\n",
            "Computing the msd similarity matrix...\n",
            "Done computing similarity matrix.\n",
            "Estimating biases using als...\n",
            "Computing the msd similarity matrix...\n",
            "Done computing similarity matrix.\n",
            "Done:  <surprise.prediction_algorithms.knns.KNNBaseline object at 0x7f6f85214a90> \n",
            "\n",
            "\n",
            "Starting:  <surprise.prediction_algorithms.knns.KNNBasic object at 0x7f6f85214750>\n",
            "Computing the msd similarity matrix...\n",
            "Done computing similarity matrix.\n",
            "Computing the msd similarity matrix...\n",
            "Done computing similarity matrix.\n",
            "Computing the msd similarity matrix...\n",
            "Done computing similarity matrix.\n",
            "Done:  <surprise.prediction_algorithms.knns.KNNBasic object at 0x7f6f85214750> \n",
            "\n",
            "\n",
            "Starting:  <surprise.prediction_algorithms.knns.KNNWithMeans object at 0x7f6f85214dd0>\n",
            "Computing the msd similarity matrix...\n",
            "Done computing similarity matrix.\n",
            "Computing the msd similarity matrix...\n",
            "Done computing similarity matrix.\n",
            "Computing the msd similarity matrix...\n",
            "Done computing similarity matrix.\n",
            "Done:  <surprise.prediction_algorithms.knns.KNNWithMeans object at 0x7f6f85214dd0> \n",
            "\n",
            "\n",
            "Starting:  <surprise.prediction_algorithms.knns.KNNWithZScore object at 0x7f6f852147d0>\n",
            "Computing the msd similarity matrix...\n",
            "Done computing similarity matrix.\n",
            "Computing the msd similarity matrix...\n",
            "Done computing similarity matrix.\n",
            "Computing the msd similarity matrix...\n",
            "Done computing similarity matrix.\n",
            "Done:  <surprise.prediction_algorithms.knns.KNNWithZScore object at 0x7f6f852147d0> \n",
            "\n",
            "\n",
            "Starting:  <surprise.prediction_algorithms.baseline_only.BaselineOnly object at 0x7f6f85214a50>\n",
            "Estimating biases using als...\n",
            "Estimating biases using als...\n",
            "Estimating biases using als...\n",
            "Done:  <surprise.prediction_algorithms.baseline_only.BaselineOnly object at 0x7f6f85214a50> \n",
            "\n",
            "\n",
            "Starting:  <surprise.prediction_algorithms.co_clustering.CoClustering object at 0x7f6f85214f90>\n",
            "Done:  <surprise.prediction_algorithms.co_clustering.CoClustering object at 0x7f6f85214f90> \n",
            "\n",
            "\n",
            "\n",
            "\tDONE\n",
            "\n"
          ]
        }
      ]
    },
    {
      "cell_type": "code",
      "metadata": {
        "id": "FQ-gO0oA7xJs"
      },
      "source": [
        "surprise_results = pd.DataFrame(benchmark).set_index('Algorithm').sort_values('test_rmse')"
      ],
      "execution_count": null,
      "outputs": []
    },
    {
      "cell_type": "code",
      "metadata": {
        "id": "VMoYn_xx760o",
        "outputId": "8ce3404c-46ee-4901-b4ac-5b9bf4aa5f43",
        "colab": {
          "base_uri": "https://localhost:8080/",
          "height": 426
        }
      },
      "source": [
        "surprise_results"
      ],
      "execution_count": null,
      "outputs": [
        {
          "output_type": "execute_result",
          "data": {
            "text/plain": [
              "                 test_rmse    fit_time  test_time\n",
              "Algorithm                                        \n",
              "SVDpp             0.848478  206.292280  12.262134\n",
              "KNNBaseline       0.854737    0.313565   2.881269\n",
              "BaselineOnly      0.860804    0.206660   0.202200\n",
              "SVD               0.863511    3.450771   0.362832\n",
              "KNNWithZScore     0.867734    0.188106   2.595128\n",
              "KNNWithMeans      0.867846    0.123521   2.412002\n",
              "SlopeOne          0.872950    1.927934   7.160106\n",
              "NMF               0.902226    4.166102   0.370175\n",
              "CoClustering      0.919846    1.822455   0.208193\n",
              "KNNBasic          0.923745    0.111424   2.424840\n",
              "NormalPredictor   1.395710    0.115257   0.318732"
            ],
            "text/html": [
              "\n",
              "  <div id=\"df-36f7f91c-4d3e-4ac4-8c9d-866d8e59e33b\">\n",
              "    <div class=\"colab-df-container\">\n",
              "      <div>\n",
              "<style scoped>\n",
              "    .dataframe tbody tr th:only-of-type {\n",
              "        vertical-align: middle;\n",
              "    }\n",
              "\n",
              "    .dataframe tbody tr th {\n",
              "        vertical-align: top;\n",
              "    }\n",
              "\n",
              "    .dataframe thead th {\n",
              "        text-align: right;\n",
              "    }\n",
              "</style>\n",
              "<table border=\"1\" class=\"dataframe\">\n",
              "  <thead>\n",
              "    <tr style=\"text-align: right;\">\n",
              "      <th></th>\n",
              "      <th>test_rmse</th>\n",
              "      <th>fit_time</th>\n",
              "      <th>test_time</th>\n",
              "    </tr>\n",
              "    <tr>\n",
              "      <th>Algorithm</th>\n",
              "      <th></th>\n",
              "      <th></th>\n",
              "      <th></th>\n",
              "    </tr>\n",
              "  </thead>\n",
              "  <tbody>\n",
              "    <tr>\n",
              "      <th>SVDpp</th>\n",
              "      <td>0.848478</td>\n",
              "      <td>206.292280</td>\n",
              "      <td>12.262134</td>\n",
              "    </tr>\n",
              "    <tr>\n",
              "      <th>KNNBaseline</th>\n",
              "      <td>0.854737</td>\n",
              "      <td>0.313565</td>\n",
              "      <td>2.881269</td>\n",
              "    </tr>\n",
              "    <tr>\n",
              "      <th>BaselineOnly</th>\n",
              "      <td>0.860804</td>\n",
              "      <td>0.206660</td>\n",
              "      <td>0.202200</td>\n",
              "    </tr>\n",
              "    <tr>\n",
              "      <th>SVD</th>\n",
              "      <td>0.863511</td>\n",
              "      <td>3.450771</td>\n",
              "      <td>0.362832</td>\n",
              "    </tr>\n",
              "    <tr>\n",
              "      <th>KNNWithZScore</th>\n",
              "      <td>0.867734</td>\n",
              "      <td>0.188106</td>\n",
              "      <td>2.595128</td>\n",
              "    </tr>\n",
              "    <tr>\n",
              "      <th>KNNWithMeans</th>\n",
              "      <td>0.867846</td>\n",
              "      <td>0.123521</td>\n",
              "      <td>2.412002</td>\n",
              "    </tr>\n",
              "    <tr>\n",
              "      <th>SlopeOne</th>\n",
              "      <td>0.872950</td>\n",
              "      <td>1.927934</td>\n",
              "      <td>7.160106</td>\n",
              "    </tr>\n",
              "    <tr>\n",
              "      <th>NMF</th>\n",
              "      <td>0.902226</td>\n",
              "      <td>4.166102</td>\n",
              "      <td>0.370175</td>\n",
              "    </tr>\n",
              "    <tr>\n",
              "      <th>CoClustering</th>\n",
              "      <td>0.919846</td>\n",
              "      <td>1.822455</td>\n",
              "      <td>0.208193</td>\n",
              "    </tr>\n",
              "    <tr>\n",
              "      <th>KNNBasic</th>\n",
              "      <td>0.923745</td>\n",
              "      <td>0.111424</td>\n",
              "      <td>2.424840</td>\n",
              "    </tr>\n",
              "    <tr>\n",
              "      <th>NormalPredictor</th>\n",
              "      <td>1.395710</td>\n",
              "      <td>0.115257</td>\n",
              "      <td>0.318732</td>\n",
              "    </tr>\n",
              "  </tbody>\n",
              "</table>\n",
              "</div>\n",
              "      <button class=\"colab-df-convert\" onclick=\"convertToInteractive('df-36f7f91c-4d3e-4ac4-8c9d-866d8e59e33b')\"\n",
              "              title=\"Convert this dataframe to an interactive table.\"\n",
              "              style=\"display:none;\">\n",
              "        \n",
              "  <svg xmlns=\"http://www.w3.org/2000/svg\" height=\"24px\"viewBox=\"0 0 24 24\"\n",
              "       width=\"24px\">\n",
              "    <path d=\"M0 0h24v24H0V0z\" fill=\"none\"/>\n",
              "    <path d=\"M18.56 5.44l.94 2.06.94-2.06 2.06-.94-2.06-.94-.94-2.06-.94 2.06-2.06.94zm-11 1L8.5 8.5l.94-2.06 2.06-.94-2.06-.94L8.5 2.5l-.94 2.06-2.06.94zm10 10l.94 2.06.94-2.06 2.06-.94-2.06-.94-.94-2.06-.94 2.06-2.06.94z\"/><path d=\"M17.41 7.96l-1.37-1.37c-.4-.4-.92-.59-1.43-.59-.52 0-1.04.2-1.43.59L10.3 9.45l-7.72 7.72c-.78.78-.78 2.05 0 2.83L4 21.41c.39.39.9.59 1.41.59.51 0 1.02-.2 1.41-.59l7.78-7.78 2.81-2.81c.8-.78.8-2.07 0-2.86zM5.41 20L4 18.59l7.72-7.72 1.47 1.35L5.41 20z\"/>\n",
              "  </svg>\n",
              "      </button>\n",
              "      \n",
              "  <style>\n",
              "    .colab-df-container {\n",
              "      display:flex;\n",
              "      flex-wrap:wrap;\n",
              "      gap: 12px;\n",
              "    }\n",
              "\n",
              "    .colab-df-convert {\n",
              "      background-color: #E8F0FE;\n",
              "      border: none;\n",
              "      border-radius: 50%;\n",
              "      cursor: pointer;\n",
              "      display: none;\n",
              "      fill: #1967D2;\n",
              "      height: 32px;\n",
              "      padding: 0 0 0 0;\n",
              "      width: 32px;\n",
              "    }\n",
              "\n",
              "    .colab-df-convert:hover {\n",
              "      background-color: #E2EBFA;\n",
              "      box-shadow: 0px 1px 2px rgba(60, 64, 67, 0.3), 0px 1px 3px 1px rgba(60, 64, 67, 0.15);\n",
              "      fill: #174EA6;\n",
              "    }\n",
              "\n",
              "    [theme=dark] .colab-df-convert {\n",
              "      background-color: #3B4455;\n",
              "      fill: #D2E3FC;\n",
              "    }\n",
              "\n",
              "    [theme=dark] .colab-df-convert:hover {\n",
              "      background-color: #434B5C;\n",
              "      box-shadow: 0px 1px 3px 1px rgba(0, 0, 0, 0.15);\n",
              "      filter: drop-shadow(0px 1px 2px rgba(0, 0, 0, 0.3));\n",
              "      fill: #FFFFFF;\n",
              "    }\n",
              "  </style>\n",
              "\n",
              "      <script>\n",
              "        const buttonEl =\n",
              "          document.querySelector('#df-36f7f91c-4d3e-4ac4-8c9d-866d8e59e33b button.colab-df-convert');\n",
              "        buttonEl.style.display =\n",
              "          google.colab.kernel.accessAllowed ? 'block' : 'none';\n",
              "\n",
              "        async function convertToInteractive(key) {\n",
              "          const element = document.querySelector('#df-36f7f91c-4d3e-4ac4-8c9d-866d8e59e33b');\n",
              "          const dataTable =\n",
              "            await google.colab.kernel.invokeFunction('convertToInteractive',\n",
              "                                                     [key], {});\n",
              "          if (!dataTable) return;\n",
              "\n",
              "          const docLinkHtml = 'Like what you see? Visit the ' +\n",
              "            '<a target=\"_blank\" href=https://colab.research.google.com/notebooks/data_table.ipynb>data table notebook</a>'\n",
              "            + ' to learn more about interactive tables.';\n",
              "          element.innerHTML = '';\n",
              "          dataTable['output_type'] = 'display_data';\n",
              "          await google.colab.output.renderOutput(dataTable, element);\n",
              "          const docLink = document.createElement('div');\n",
              "          docLink.innerHTML = docLinkHtml;\n",
              "          element.appendChild(docLink);\n",
              "        }\n",
              "      </script>\n",
              "    </div>\n",
              "  </div>\n",
              "  "
            ]
          },
          "metadata": {},
          "execution_count": 20
        }
      ]
    },
    {
      "cell_type": "code",
      "source": [
        "surprise_results.to_csv('surprise_results.csv')"
      ],
      "metadata": {
        "id": "JW389SMB8qrj"
      },
      "execution_count": null,
      "outputs": []
    },
    {
      "cell_type": "markdown",
      "metadata": {
        "id": "fCsGGpZKDDRa"
      },
      "source": [
        "SVDpp is performing best but it is taking a lot of time so we will use SED instean but apply GridSearch CV."
      ]
    },
    {
      "cell_type": "code",
      "metadata": {
        "id": "mBTeRS7GDC-D",
        "outputId": "c2e4b0ff-c81e-448a-845e-f75d41dda2d7",
        "colab": {
          "base_uri": "https://localhost:8080/"
        }
      },
      "source": [
        "# param_grid = {\n",
        "#     \"n_epochs\": [5, 10, 15, 20, 30, 40, 50, 100],\n",
        "#     \"lr_all\": [0.001, 0.002, 0.005],\n",
        "#     \"reg_all\": [0.02, 0.08, 0.4, 0.6]\n",
        "# }\n",
        "\n",
        "# smaller grid for testing\n",
        "param_grid = {\n",
        "    \"n_epochs\": [10, 20],\n",
        "    \"lr_all\": [0.002, 0.005],\n",
        "    \"reg_all\": [0.02]\n",
        "}\n",
        "gs = GridSearchCV(SVD, param_grid, measures=[\"rmse\", \"mae\"], refit=True, cv=5)\n",
        "\n",
        "gs.fit(data)\n",
        "\n",
        "training_parameters = gs.best_params[\"rmse\"]\n",
        "\n",
        "print(\"BEST RMSE: \\t\", gs.best_score[\"rmse\"])\n",
        "print(\"BEST MAE: \\t\", gs.best_score[\"mae\"])\n",
        "print(\"BEST params: \\t\", gs.best_params[\"rmse\"])"
      ],
      "execution_count": null,
      "outputs": [
        {
          "output_type": "stream",
          "name": "stdout",
          "text": [
            "BEST RMSE: \t 0.8561976339670558\n",
            "BEST MAE: \t 0.6571040740079669\n",
            "BEST params: \t {'n_epochs': 20, 'lr_all': 0.005, 'reg_all': 0.02}\n"
          ]
        }
      ]
    },
    {
      "cell_type": "code",
      "metadata": {
        "id": "j8BidQh53A8g",
        "colab": {
          "base_uri": "https://localhost:8080/"
        },
        "outputId": "b5b24175-c04d-4222-9f4c-79110422a17a"
      },
      "source": [
        "from datetime import datetime\n",
        "print(training_parameters)\n",
        "reader = Reader(rating_scale=(1, 5))\n",
        "\n",
        "print(\"\\n\\n\\t\\t STARTING\\n\\n\")\n",
        "start = datetime.now()\n",
        "\n",
        "print(\"> Loading data...\")\n",
        "data = Dataset.load_from_df(df_new[['userID', 'item', 'rating']], reader)\n",
        "print(\"> OK\")\n",
        "\n",
        "print(\"> Creating trainset...\")\n",
        "trainset = data.build_full_trainset()\n",
        "print(\"> OK\")\n",
        "\n",
        "\n",
        "startTraining = datetime.now()\n",
        "print(\"> Training...\")\n",
        "\n",
        "algo = SVD(n_epochs = training_parameters['n_epochs'], lr_all = training_parameters['lr_all'], reg_all = training_parameters['reg_all'])\n",
        "\n",
        "algo.fit(trainset)\n",
        "\n",
        "endTraining = datetime.now()\n",
        "print(\"> OK \\t\\t It Took: \", (endTraining-startTraining).seconds, \"seconds\")\n",
        "\n",
        "end = datetime.now()\n",
        "print (\">> DONE \\t\\t It Took\", (end-start).seconds, \"seconds\" )"
      ],
      "execution_count": null,
      "outputs": [
        {
          "output_type": "stream",
          "name": "stdout",
          "text": [
            "{'n_epochs': 20, 'lr_all': 0.005, 'reg_all': 0.02}\n",
            "\n",
            "\n",
            "\t\t STARTING\n",
            "\n",
            "\n",
            "> Loading data...\n",
            "> OK\n",
            "> Creating trainset...\n",
            "> OK\n",
            "> Training...\n",
            "> OK \t\t It Took:  4 seconds\n",
            ">> DONE \t\t It Took 4 seconds\n"
          ]
        }
      ]
    },
    {
      "cell_type": "code",
      "metadata": {
        "id": "lM7Db2cj7-IZ",
        "outputId": "893a666a-8e6e-4694-f35d-cf673afef819",
        "colab": {
          "base_uri": "https://localhost:8080/"
        }
      },
      "source": [
        "## SAVING TRAINED MODEL\n",
        "from surprise import dump\n",
        "import os\n",
        "model_filename = \"./model.pickle\"\n",
        "print (\">> Starting dump\")\n",
        "# Dump algorithm and reload it.\n",
        "file_name = os.path.expanduser(model_filename)\n",
        "dump.dump(file_name, algo=algo)\n",
        "print (\">> Dump done\")\n",
        "print(model_filename)"
      ],
      "execution_count": null,
      "outputs": [
        {
          "output_type": "stream",
          "name": "stdout",
          "text": [
            ">> Starting dump\n",
            ">> Dump done\n",
            "./model.pickle\n"
          ]
        }
      ]
    },
    {
      "cell_type": "code",
      "metadata": {
        "id": "oNNXNd7AxnIN"
      },
      "source": [
        "## LOAD SAVED MODEL\n",
        "def load_model(model_filename):\n",
        "    print (\">> Loading dump\")\n",
        "    from surprise import dump\n",
        "    import os\n",
        "    file_name = os.path.expanduser(model_filename)\n",
        "    _, loaded_model = dump.load(file_name)\n",
        "    print (\">> Loaded dump\")\n",
        "    return loaded_model"
      ],
      "execution_count": null,
      "outputs": []
    },
    {
      "cell_type": "code",
      "metadata": {
        "id": "_zqHKyGm38B4",
        "colab": {
          "base_uri": "https://localhost:8080/"
        },
        "outputId": "dc6e2b62-95ff-452c-eee6-0c6d7ca12ac7"
      },
      "source": [
        "# predicitng\n",
        "from pprint import pprint as pp\n",
        "model_filename = \"./model.pickle\"\n",
        "def itemRating(user, item):\n",
        "    uid = str(user)\n",
        "    iid = str(item) \n",
        "    loaded_model = load_model(model_filename)\n",
        "    prediction = loaded_model.predict(user, item, verbose=True)\n",
        "    rating = prediction.est\n",
        "    details = prediction.details\n",
        "    uid = prediction.uid\n",
        "    iid = prediction.iid\n",
        "    true = prediction.r_ui\n",
        "    ret = {\n",
        "        'user': user, \n",
        "        'item': item, \n",
        "        'rating': rating, \n",
        "        'details': details,\n",
        "        'uid': uid,\n",
        "        'iid': iid,\n",
        "        'true': true\n",
        "        }\n",
        "    pp (ret)\n",
        "    print ('\\n\\n')\n",
        "    return ret\n",
        "print(itemRating(user = \"610\", item = \"10\"))"
      ],
      "execution_count": null,
      "outputs": [
        {
          "output_type": "stream",
          "name": "stdout",
          "text": [
            ">> Loading dump\n",
            ">> Loaded dump\n",
            "user: 610        item: 10         r_ui = None   est = 3.54   {'was_impossible': False}\n",
            "{'details': {'was_impossible': False},\n",
            " 'iid': '10',\n",
            " 'item': '10',\n",
            " 'rating': 3.543813091304151,\n",
            " 'true': None,\n",
            " 'uid': '610',\n",
            " 'user': '610'}\n",
            "\n",
            "\n",
            "\n",
            "{'user': '610', 'item': '10', 'rating': 3.543813091304151, 'details': {'was_impossible': False}, 'uid': '610', 'iid': '10', 'true': None}\n"
          ]
        }
      ]
    },
    {
      "cell_type": "code",
      "source": [
        ""
      ],
      "metadata": {
        "id": "iP15WgLk8O6b"
      },
      "execution_count": null,
      "outputs": []
    }
  ]
}